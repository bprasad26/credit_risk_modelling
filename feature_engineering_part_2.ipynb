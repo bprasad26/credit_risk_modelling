{
 "cells": [
  {
   "cell_type": "markdown",
   "metadata": {},
   "source": [
    "In this part, we'll prepare the data for machine learning by focusing on handling missing values, converting categorical columns to numeric columns, and removing any other extraneous columns we encounter throughout this process."
   ]
  },
  {
   "cell_type": "markdown",
   "metadata": {},
   "source": [
    "## Read the data "
   ]
  },
  {
   "cell_type": "code",
   "execution_count": 1,
   "metadata": {},
   "outputs": [
    {
     "data": {
      "text/plain": [
       "loan_amnt                  0\n",
       "term                       0\n",
       "int_rate                   0\n",
       "installment                0\n",
       "emp_length              1036\n",
       "home_ownership             0\n",
       "annual_inc                 0\n",
       "verification_status        0\n",
       "loan_status                0\n",
       "purpose                    0\n",
       "title                     11\n",
       "addr_state                 0\n",
       "dti                        0\n",
       "delinq_2yrs                0\n",
       "earliest_cr_line           0\n",
       "inq_last_6mths             0\n",
       "open_acc                   0\n",
       "pub_rec                    0\n",
       "revol_bal                  0\n",
       "revol_util                50\n",
       "total_acc                  0\n",
       "last_credit_pull_d         2\n",
       "pub_rec_bankruptcies     697\n",
       "dtype: int64"
      ]
     },
     "execution_count": 1,
     "metadata": {},
     "output_type": "execute_result"
    }
   ],
   "source": [
    "import pandas as pd\n",
    "pd.options.display.max_columns = 99 \n",
    "\n",
    "loans = pd.read_csv('./Data/filtered_loans_2007.csv')\n",
    "null_counts = loans.isnull().sum()\n",
    "null_counts"
   ]
  },
  {
   "cell_type": "markdown",
   "metadata": {},
   "source": [
    "## Handling Missing Values"
   ]
  },
  {
   "cell_type": "markdown",
   "metadata": {},
   "source": [
    "While most of the columns have no missing values, two columns have fifty or less rows with missing values, and two columns, emp_length and pub_rec_bankruptcies, contain a relatively high amount of missing values.\n",
    "\n",
    "Domain knowledge tells us that employment length is frequently used in assessing how risky a potential borrower is, so we'll keep this column despite its relatively large amount of missing values.\n",
    "\n",
    "Let's inspect the values of the column pub_rec_bankruptcies"
   ]
  },
  {
   "cell_type": "code",
   "execution_count": 2,
   "metadata": {},
   "outputs": [
    {
     "data": {
      "text/plain": [
       "0.0    0.939438\n",
       "1.0    0.042456\n",
       "NaN    0.017978\n",
       "2.0    0.000129\n",
       "Name: pub_rec_bankruptcies, dtype: float64"
      ]
     },
     "execution_count": 2,
     "metadata": {},
     "output_type": "execute_result"
    }
   ],
   "source": [
    "loans['pub_rec_bankruptcies'].value_counts(normalize=True, dropna=False)"
   ]
  },
  {
   "cell_type": "markdown",
   "metadata": {},
   "source": [
    "We see that this column offers very little variability, nearly 94% of values are in the same category. It probably won't have much predictive value. let's drop it. In addition, we'll remove the remaining rows containing null values.\n",
    "\n",
    "This means that we'll keep the following columns and just remove rows containing missing values for them:\n",
    "\n",
    "* emp_length\n",
    "* title\n",
    "* revol_util\n",
    "* last_credit_pull_d\n",
    "and drop the `pub_rec_bankruptcies` column entirely."
   ]
  },
  {
   "cell_type": "code",
   "execution_count": 3,
   "metadata": {},
   "outputs": [
    {
     "data": {
      "text/plain": [
       "object     11\n",
       "float64    10\n",
       "int64       1\n",
       "dtype: int64"
      ]
     },
     "execution_count": 3,
     "metadata": {},
     "output_type": "execute_result"
    }
   ],
   "source": [
    "loans = loans.drop('pub_rec_bankruptcies', axis=1)\n",
    "loans = loans.dropna()\n",
    "loans.dtypes.value_counts()"
   ]
  },
  {
   "cell_type": "markdown",
   "metadata": {},
   "source": [
    "## Text Columns "
   ]
  },
  {
   "cell_type": "markdown",
   "metadata": {},
   "source": [
    "While the numerical columns can be used natively with scikit-learn, the object columns that contain text need to be converted to numerical data types. Let's return a new Dataframe containing just the object columns so we can explore them in more depth."
   ]
  },
  {
   "cell_type": "code",
   "execution_count": 4,
   "metadata": {},
   "outputs": [
    {
     "data": {
      "text/html": [
       "<div>\n",
       "<style scoped>\n",
       "    .dataframe tbody tr th:only-of-type {\n",
       "        vertical-align: middle;\n",
       "    }\n",
       "\n",
       "    .dataframe tbody tr th {\n",
       "        vertical-align: top;\n",
       "    }\n",
       "\n",
       "    .dataframe thead th {\n",
       "        text-align: right;\n",
       "    }\n",
       "</style>\n",
       "<table border=\"1\" class=\"dataframe\">\n",
       "  <thead>\n",
       "    <tr style=\"text-align: right;\">\n",
       "      <th></th>\n",
       "      <th>term</th>\n",
       "      <th>int_rate</th>\n",
       "      <th>emp_length</th>\n",
       "      <th>home_ownership</th>\n",
       "      <th>verification_status</th>\n",
       "      <th>purpose</th>\n",
       "      <th>title</th>\n",
       "      <th>addr_state</th>\n",
       "      <th>earliest_cr_line</th>\n",
       "      <th>revol_util</th>\n",
       "      <th>last_credit_pull_d</th>\n",
       "    </tr>\n",
       "  </thead>\n",
       "  <tbody>\n",
       "    <tr>\n",
       "      <th>0</th>\n",
       "      <td>36 months</td>\n",
       "      <td>10.65%</td>\n",
       "      <td>10+ years</td>\n",
       "      <td>RENT</td>\n",
       "      <td>Verified</td>\n",
       "      <td>credit_card</td>\n",
       "      <td>Computer</td>\n",
       "      <td>AZ</td>\n",
       "      <td>Jan-1985</td>\n",
       "      <td>83.7%</td>\n",
       "      <td>Jun-2016</td>\n",
       "    </tr>\n",
       "    <tr>\n",
       "      <th>1</th>\n",
       "      <td>60 months</td>\n",
       "      <td>15.27%</td>\n",
       "      <td>&lt; 1 year</td>\n",
       "      <td>RENT</td>\n",
       "      <td>Source Verified</td>\n",
       "      <td>car</td>\n",
       "      <td>bike</td>\n",
       "      <td>GA</td>\n",
       "      <td>Apr-1999</td>\n",
       "      <td>9.4%</td>\n",
       "      <td>Sep-2013</td>\n",
       "    </tr>\n",
       "    <tr>\n",
       "      <th>2</th>\n",
       "      <td>36 months</td>\n",
       "      <td>15.96%</td>\n",
       "      <td>10+ years</td>\n",
       "      <td>RENT</td>\n",
       "      <td>Not Verified</td>\n",
       "      <td>small_business</td>\n",
       "      <td>real estate business</td>\n",
       "      <td>IL</td>\n",
       "      <td>Nov-2001</td>\n",
       "      <td>98.5%</td>\n",
       "      <td>Jun-2016</td>\n",
       "    </tr>\n",
       "    <tr>\n",
       "      <th>3</th>\n",
       "      <td>36 months</td>\n",
       "      <td>13.49%</td>\n",
       "      <td>10+ years</td>\n",
       "      <td>RENT</td>\n",
       "      <td>Source Verified</td>\n",
       "      <td>other</td>\n",
       "      <td>personel</td>\n",
       "      <td>CA</td>\n",
       "      <td>Feb-1996</td>\n",
       "      <td>21%</td>\n",
       "      <td>Apr-2016</td>\n",
       "    </tr>\n",
       "    <tr>\n",
       "      <th>4</th>\n",
       "      <td>36 months</td>\n",
       "      <td>7.90%</td>\n",
       "      <td>3 years</td>\n",
       "      <td>RENT</td>\n",
       "      <td>Source Verified</td>\n",
       "      <td>wedding</td>\n",
       "      <td>My wedding loan I promise to pay back</td>\n",
       "      <td>AZ</td>\n",
       "      <td>Nov-2004</td>\n",
       "      <td>28.3%</td>\n",
       "      <td>Jan-2016</td>\n",
       "    </tr>\n",
       "  </tbody>\n",
       "</table>\n",
       "</div>"
      ],
      "text/plain": [
       "         term int_rate emp_length home_ownership verification_status  \\\n",
       "0   36 months   10.65%  10+ years           RENT            Verified   \n",
       "1   60 months   15.27%   < 1 year           RENT     Source Verified   \n",
       "2   36 months   15.96%  10+ years           RENT        Not Verified   \n",
       "3   36 months   13.49%  10+ years           RENT     Source Verified   \n",
       "4   36 months    7.90%    3 years           RENT     Source Verified   \n",
       "\n",
       "          purpose                                  title addr_state  \\\n",
       "0     credit_card                               Computer         AZ   \n",
       "1             car                                   bike         GA   \n",
       "2  small_business                   real estate business         IL   \n",
       "3           other                               personel         CA   \n",
       "4         wedding  My wedding loan I promise to pay back         AZ   \n",
       "\n",
       "  earliest_cr_line revol_util last_credit_pull_d  \n",
       "0         Jan-1985      83.7%           Jun-2016  \n",
       "1         Apr-1999       9.4%           Sep-2013  \n",
       "2         Nov-2001      98.5%           Jun-2016  \n",
       "3         Feb-1996        21%           Apr-2016  \n",
       "4         Nov-2004      28.3%           Jan-2016  "
      ]
     },
     "execution_count": 4,
     "metadata": {},
     "output_type": "execute_result"
    }
   ],
   "source": [
    "object_columns_df = loans.select_dtypes(include=['object'])\n",
    "object_columns_df.head()"
   ]
  },
  {
   "cell_type": "markdown",
   "metadata": {},
   "source": [
    "### First 5 categorical columns"
   ]
  },
  {
   "cell_type": "markdown",
   "metadata": {},
   "source": [
    "Let's explore the unique value counts of the columnns that seem like they contain categorical values.\n"
   ]
  },
  {
   "cell_type": "code",
   "execution_count": 5,
   "metadata": {},
   "outputs": [
    {
     "name": "stdout",
     "output_type": "stream",
     "text": [
      "RENT        18112\n",
      "MORTGAGE    16686\n",
      "OWN          2778\n",
      "OTHER          96\n",
      "NONE            3\n",
      "Name: home_ownership, dtype: int64\n",
      "------------\n",
      "Not Verified       16281\n",
      "Verified           11856\n",
      "Source Verified     9538\n",
      "Name: verification_status, dtype: int64\n",
      "------------\n",
      "10+ years    8545\n",
      "< 1 year     4513\n",
      "2 years      4303\n",
      "3 years      4022\n",
      "4 years      3353\n",
      "5 years      3202\n",
      "1 year       3176\n",
      "6 years      2177\n",
      "7 years      1714\n",
      "8 years      1442\n",
      "9 years      1228\n",
      "Name: emp_length, dtype: int64\n",
      "------------\n",
      " 36 months    28234\n",
      " 60 months     9441\n",
      "Name: term, dtype: int64\n",
      "------------\n",
      "CA    6776\n",
      "NY    3614\n",
      "FL    2704\n",
      "TX    2613\n",
      "NJ    1776\n",
      "IL    1447\n",
      "PA    1442\n",
      "VA    1347\n",
      "GA    1323\n",
      "MA    1272\n",
      "OH    1149\n",
      "MD    1008\n",
      "AZ     807\n",
      "WA     788\n",
      "CO     748\n",
      "NC     729\n",
      "CT     711\n",
      "MI     678\n",
      "MO     648\n",
      "MN     581\n",
      "NV     466\n",
      "SC     454\n",
      "WI     427\n",
      "OR     422\n",
      "LA     420\n",
      "AL     420\n",
      "KY     311\n",
      "OK     285\n",
      "UT     249\n",
      "KS     249\n",
      "AR     229\n",
      "DC     209\n",
      "RI     194\n",
      "NM     180\n",
      "WV     164\n",
      "HI     162\n",
      "NH     157\n",
      "DE     110\n",
      "MT      77\n",
      "AK      76\n",
      "WY      76\n",
      "SD      60\n",
      "VT      53\n",
      "MS      19\n",
      "TN      17\n",
      "IN       9\n",
      "ID       6\n",
      "NE       5\n",
      "IA       5\n",
      "ME       3\n",
      "Name: addr_state, dtype: int64\n",
      "------------\n"
     ]
    }
   ],
   "source": [
    "cols = ['home_ownership', 'verification_status', 'emp_length', 'term', 'addr_state']\n",
    "\n",
    "for col in cols:\n",
    "    print(loans[col].value_counts())\n",
    "    print('-'*12)"
   ]
  },
  {
   "cell_type": "markdown",
   "metadata": {},
   "source": [
    "The home_ownership, verification_status, emp_length, term, and addr_state columns all contain multiple discrete values. We should clean the emp_length column and treat it as a numerical one since the values have ordering (2 years of employment is less than 8 years)."
   ]
  },
  {
   "cell_type": "markdown",
   "metadata": {},
   "source": [
    "### The reason for the loan "
   ]
  },
  {
   "cell_type": "markdown",
   "metadata": {},
   "source": [
    "First, let's look at the unique value counts for the purpose and title columns to understand which column we want to keep."
   ]
  },
  {
   "cell_type": "code",
   "execution_count": 6,
   "metadata": {},
   "outputs": [
    {
     "data": {
      "text/plain": [
       "Debt Consolidation                                                2068\n",
       "Debt Consolidation Loan                                           1599\n",
       "Personal Loan                                                      624\n",
       "Consolidation                                                      488\n",
       "debt consolidation                                                 466\n",
       "Credit Card Consolidation                                          345\n",
       "Home Improvement                                                   336\n",
       "Debt consolidation                                                 314\n",
       "Small Business Loan                                                298\n",
       "Credit Card Loan                                                   294\n",
       "Personal                                                           290\n",
       "Consolidation Loan                                                 250\n",
       "Home Improvement Loan                                              228\n",
       "personal loan                                                      219\n",
       "Loan                                                               202\n",
       "Wedding Loan                                                       199\n",
       "personal                                                           198\n",
       "Car Loan                                                           188\n",
       "consolidation                                                      186\n",
       "Other Loan                                                         168\n",
       "Wedding                                                            148\n",
       "Credit Card Payoff                                                 144\n",
       "Credit Card Refinance                                              140\n",
       "Major Purchase Loan                                                131\n",
       "Consolidate                                                        124\n",
       "Medical                                                            111\n",
       "Credit Card                                                        110\n",
       "home improvement                                                   101\n",
       "Credit Cards                                                        91\n",
       "My Loan                                                             90\n",
       "                                                                  ... \n",
       "Single mom improving childs future                                   1\n",
       "Refinancing high interest credit card, never late on a payment       1\n",
       "Funding for Real Estate Lending Business                             1\n",
       "Children Retreat                                                     1\n",
       "Medical/Vacation                                                     1\n",
       "Winter '09                                                           1\n",
       "Putting it into one loan - Thank you.                                1\n",
       "My Rent Loan                                                         1\n",
       "Short Term Personal Loan                                             1\n",
       "canvasart                                                            1\n",
       "Shawn CC loan                                                        1\n",
       "Dave's 2nd student loan                                              1\n",
       "Standard One                                                         1\n",
       "Getting a new place                                                  1\n",
       "Car/Work                                                             1\n",
       "Refinance Student CC's                                               1\n",
       "Excellent credit - No late payments ever                             1\n",
       "Get Out of Debt ASAP                                                 1\n",
       "Paramedic School Loan (NCTI)                                         1\n",
       "Loanclub 2011                                                        1\n",
       "Refinance debt                                                       1\n",
       "Dan's Loan                                                           1\n",
       "SEADOO                                                               1\n",
       "Business Acquisition                                                 1\n",
       "CC refinance DC                                                      1\n",
       "Big Money                                                            1\n",
       "Project Management Certificate                                       1\n",
       "ccPayoff                                                             1\n",
       "Can't wait to pay off my debt                                        1\n",
       "djp                                                                  1\n",
       "Name: title, Length: 18881, dtype: int64"
      ]
     },
     "execution_count": 6,
     "metadata": {},
     "output_type": "execute_result"
    }
   ],
   "source": [
    "loans['title'].value_counts()"
   ]
  },
  {
   "cell_type": "code",
   "execution_count": 7,
   "metadata": {},
   "outputs": [
    {
     "data": {
      "text/plain": [
       "debt_consolidation    17751\n",
       "credit_card            4911\n",
       "other                  3711\n",
       "home_improvement       2808\n",
       "major_purchase         2083\n",
       "small_business         1719\n",
       "car                    1459\n",
       "wedding                 916\n",
       "medical                 655\n",
       "moving                  552\n",
       "house                   356\n",
       "vacation                348\n",
       "educational             312\n",
       "renewable_energy         94\n",
       "Name: purpose, dtype: int64"
      ]
     },
     "execution_count": 7,
     "metadata": {},
     "output_type": "execute_result"
    }
   ],
   "source": [
    "loans['purpose'].value_counts()"
   ]
  },
  {
   "cell_type": "markdown",
   "metadata": {},
   "source": [
    "## Categorical columns"
   ]
  },
  {
   "cell_type": "markdown",
   "metadata": {},
   "source": [
    "The home_ownership, verification_status, emp_length, and term columns each contain a few discrete categorical values. We should encode these columns as dummy variables and keep them.\n",
    "\n",
    "It seems like the purpose and title columns do contain overlapping information but we'll keep the purpose column since it contains a few discrete values. In addition, the title column has data quality issues since many of the values are repeated with slight modifications (e.g. Debt Consolidation and Debt Consolidation Loan and debt consolidation)."
   ]
  },
  {
   "cell_type": "code",
   "execution_count": 8,
   "metadata": {},
   "outputs": [],
   "source": [
    "# Remove the last_credit_pull_d, addr_state, title, and earliest_cr_line columns from loans\n",
    "loans = loans.drop(['last_credit_pull_d','addr_state','title','earliest_cr_line'], axis=1)\n",
    "\n",
    "# Convert the int_rate and revol_util columns to float columns\n",
    "loans['int_rate'] = loans['int_rate'].str.rstrip('%').astype('float')\n",
    "loans['revol_util'] = loans['revol_util'].str.rstrip('%').astype('float')\n",
    "\n",
    "# clean the emp_length column\n",
    "mapping_dict = {\n",
    "    \"emp_length\": {\n",
    "        \"10+ years\": 10,\n",
    "        \"9 years\": 9,\n",
    "        \"8 years\": 8,\n",
    "        \"7 years\": 7,\n",
    "        \"6 years\": 6,\n",
    "        \"5 years\": 5,\n",
    "        \"4 years\": 4,\n",
    "        \"3 years\": 3,\n",
    "        \"2 years\": 2,\n",
    "        \"1 year\": 1,\n",
    "        \"< 1 year\": 0,\n",
    "        \"n/a\": 0\n",
    "    }\n",
    "}\n",
    "\n",
    "loans = loans.replace(mapping_dict)"
   ]
  },
  {
   "cell_type": "markdown",
   "metadata": {},
   "source": [
    "## Dummy variables"
   ]
  },
  {
   "cell_type": "markdown",
   "metadata": {},
   "source": [
    "Let's now encode the home_ownership, verification_status, purpose, and term columns as dummy variables so we can use them in our model."
   ]
  },
  {
   "cell_type": "code",
   "execution_count": 9,
   "metadata": {},
   "outputs": [],
   "source": [
    "cols = ['home_ownership','verification_status','purpose','term']\n",
    "# Create dummy variables \n",
    "dummy_df = pd.get_dummies(loans[cols])\n",
    "# add the dummy columns to the dataframe\n",
    "loans = pd.concat([loans, dummy_df], axis=1)\n",
    "# remove the original columns from the dataframe\n",
    "loans = loans.drop(cols, axis=1)"
   ]
  },
  {
   "cell_type": "markdown",
   "metadata": {},
   "source": [
    "## Save the data "
   ]
  },
  {
   "cell_type": "code",
   "execution_count": 10,
   "metadata": {},
   "outputs": [],
   "source": [
    "loans.to_csv('./Data/cleaned_loans.csv', index=False)"
   ]
  },
  {
   "cell_type": "code",
   "execution_count": null,
   "metadata": {},
   "outputs": [],
   "source": []
  }
 ],
 "metadata": {
  "kernelspec": {
   "display_name": "Python 3",
   "language": "python",
   "name": "python3"
  },
  "language_info": {
   "codemirror_mode": {
    "name": "ipython",
    "version": 3
   },
   "file_extension": ".py",
   "mimetype": "text/x-python",
   "name": "python",
   "nbconvert_exporter": "python",
   "pygments_lexer": "ipython3",
   "version": "3.7.3"
  },
  "varInspector": {
   "cols": {
    "lenName": 16,
    "lenType": 16,
    "lenVar": 40
   },
   "kernels_config": {
    "python": {
     "delete_cmd_postfix": "",
     "delete_cmd_prefix": "del ",
     "library": "var_list.py",
     "varRefreshCmd": "print(var_dic_list())"
    },
    "r": {
     "delete_cmd_postfix": ") ",
     "delete_cmd_prefix": "rm(",
     "library": "var_list.r",
     "varRefreshCmd": "cat(var_dic_list()) "
    }
   },
   "types_to_exclude": [
    "module",
    "function",
    "builtin_function_or_method",
    "instance",
    "_Feature"
   ],
   "window_display": false
  }
 },
 "nbformat": 4,
 "nbformat_minor": 2
}
